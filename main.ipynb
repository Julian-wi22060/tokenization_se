{
 "cells": [
  {
   "cell_type": "code",
   "execution_count": 1,
   "metadata": {
    "ExecuteTime": {
     "end_time": "2024-12-12T16:16:14.348326Z",
     "start_time": "2024-12-12T16:15:39.452366Z"
    }
   },
   "outputs": [],
   "source": [
    "from sklearn.feature_extraction.text import TfidfVectorizer\n",
    "from nltk.tokenize import sent_tokenize, word_tokenize\n",
    "from nltk.stem import WordNetLemmatizer\n",
    "from sklearn.cluster import KMeans\n",
    "from nltk.corpus import stopwords\n",
    "from collections import Counter\n",
    "\n",
    "import matplotlib.pyplot as plt\n",
    "import pandas as pd\n",
    "\n",
    "import string\n",
    "import nltk"
   ]
  },
  {
   "cell_type": "code",
   "execution_count": 2,
   "metadata": {
    "ExecuteTime": {
     "end_time": "2024-12-12T16:16:14.519944Z",
     "start_time": "2024-12-12T16:16:14.352724Z"
    }
   },
   "outputs": [
    {
     "name": "stderr",
     "output_type": "stream",
     "text": [
      "[nltk_data] Downloading package punkt to /Users/julian/nltk_data...\n",
      "[nltk_data]   Package punkt is already up-to-date!\n",
      "[nltk_data] Downloading package stopwords to\n",
      "[nltk_data]     /Users/julian/nltk_data...\n",
      "[nltk_data]   Package stopwords is already up-to-date!\n",
      "[nltk_data] Downloading package wordnet to /Users/julian/nltk_data...\n",
      "[nltk_data]   Package wordnet is already up-to-date!\n",
      "[nltk_data] Downloading package omw-1.4 to /Users/julian/nltk_data...\n",
      "[nltk_data]   Package omw-1.4 is already up-to-date!\n"
     ]
    },
    {
     "data": {
      "text/plain": "True"
     },
     "execution_count": 2,
     "metadata": {},
     "output_type": "execute_result"
    }
   ],
   "source": [
    "# Benötigte Ressourcen herunterladen\n",
    "nltk.download('punkt')\n",
    "nltk.download('stopwords')\n",
    "nltk.download('wordnet')\n",
    "nltk.download('omw-1.4')"
   ]
  },
  {
   "cell_type": "markdown",
   "metadata": {},
   "source": [
    "## Tokenisierung von \"Was war weniger gut?\""
   ]
  },
  {
   "cell_type": "code",
   "execution_count": 3,
   "metadata": {
    "ExecuteTime": {
     "end_time": "2024-12-12T16:16:14.525966Z",
     "start_time": "2024-12-12T16:16:14.519350Z"
    }
   },
   "outputs": [],
   "source": [
    "file_path = 'mittel.txt'"
   ]
  },
  {
   "cell_type": "code",
   "execution_count": 4,
   "metadata": {
    "ExecuteTime": {
     "end_time": "2024-12-12T16:16:14.530410Z",
     "start_time": "2024-12-12T16:16:14.525086Z"
    }
   },
   "outputs": [],
   "source": [
    "# Funktion, um Text zu verarbeiten\n",
    "def process_text(file_path, language='german'):\n",
    "    # Datei einlesen\n",
    "    with open(file_path, 'r', encoding='utf-8') as file:\n",
    "        text = file.read()\n",
    "\n",
    "    # 1. Sätze tokenisieren\n",
    "    sentences = sent_tokenize(text, language=language)\n",
    "\n",
    "    # 2. Wörter tokenisieren, Stopwords und Satzzeichen entfernen\n",
    "    stop_words = set(stopwords.words(language))\n",
    "    lemmatizer = WordNetLemmatizer()\n",
    "\n",
    "    # Iteration über alle Sätze im File\n",
    "    processed_sentences = []\n",
    "    for sentence in sentences:\n",
    "        # Wörter tokenisieren\n",
    "        words = word_tokenize(sentence, language=language)\n",
    "\n",
    "        # Stopwords und Satzzeichen entfernen, lemmatisieren\n",
    "        filtered_words = [lemmatizer.lemmatize(word.lower()) for word in words\n",
    "                          if word.lower() not in stop_words and word not in string.punctuation]\n",
    "\n",
    "        # Satz wieder zusammensetzen\n",
    "        processed_sentences.append(\" \".join(filtered_words))\n",
    "\n",
    "    return processed_sentences"
   ]
  },
  {
   "cell_type": "code",
   "execution_count": 5,
   "metadata": {
    "ExecuteTime": {
     "end_time": "2024-12-12T16:16:16.250394Z",
     "start_time": "2024-12-12T16:16:14.531817Z"
    }
   },
   "outputs": [
    {
     "name": "stdout",
     "output_type": "stream",
     "text": [
      "Satz 1: kommunikation untereinander neuesten stand\n",
      "Satz 2: kommunikation lief schon besser vergangenen projekten verbesserungswürdig\n",
      "Satz 3: vereinigung einzelsysteme erfordert mehr kommunikationsaufwand\n",
      "Satz 4: aufsetzen umgebung gemeinsames arbeiten\n",
      "Satz 5: priorisierung einzelner aufgaben anforderungen entsprechend\n",
      "Satz 6: kommunikation okay perfekt\n",
      "Satz 7: kommunikation weniger gut gab missverständnisse mussten teilaufgaben neu begonnen\n",
      "Satz 8: aufgabenbeschreibung manchmal ganz hilfreich\n",
      "Satz 9: aufgabenvorgaben wenig information\n",
      "Satz 10: aufgabenverteilung\n",
      "Satz 11: programmieren viele nerven gekostet öfters kleinere probleme gab leicht kommt\n",
      "Satz 12: kommunikation aufgabe priorisiert\n",
      "Satz 13: backlog unklar\n",
      "Satz 14: befüllen backlog\n",
      "Satz 15: planung\n",
      "Satz 16: regelmäßige update jira/repo schauen\n",
      "Satz 17: pflegen jiras\n",
      "Satz 18: zeitplanung/ zeitdruck\n",
      "Satz 19: klare konkrete zielsetzung\n"
     ]
    }
   ],
   "source": [
    "# Aufruf der Funktion\n",
    "result = process_text(file_path, language='german')\n",
    "\n",
    "# Ergebnis ausgeben\n",
    "for i, sentence in enumerate(result, 1):\n",
    "    print(f\"Satz {i}: {sentence}\")"
   ]
  },
  {
   "cell_type": "markdown",
   "metadata": {},
   "source": [
    "## KMeans mit SKlearn"
   ]
  },
  {
   "cell_type": "code",
   "execution_count": 6,
   "metadata": {
    "ExecuteTime": {
     "end_time": "2024-12-12T16:16:16.253993Z",
     "start_time": "2024-12-12T16:16:16.249964Z"
    }
   },
   "outputs": [],
   "source": [
    "# Hauptlogik für KMeans-Clustering\n",
    "def perform_kmeans(file_path, num_clusters=3, language='german'):\n",
    "    # Text verarbeiten\n",
    "    processed_sentences = process_text(file_path, language)\n",
    "\n",
    "    # Anwendung von TfidfVectorizer\n",
    "    vectorizer = TfidfVectorizer()\n",
    "    X = vectorizer.fit_transform(processed_sentences)\n",
    "\n",
    "    # KMeans anwenden\n",
    "    kmeans = KMeans(n_clusters=num_clusters, random_state=42) # random_state für rekonstruierbare Ergebnisse\n",
    "    kmeans.fit(X)\n",
    "\n",
    "    # Cluster-Zuweisungen\n",
    "    clusters = kmeans.labels_\n",
    "\n",
    "    '''\n",
    "    # Ausgabe\n",
    "    for i, sentence in enumerate(processed_sentences):\n",
    "        print(f\"Sentence: {sentence}\")\n",
    "        print(f\"Cluster: {clusters[i]}\")\n",
    "        print(\"\")\n",
    "    '''\n",
    "\n",
    "    return clusters, processed_sentences"
   ]
  },
  {
   "cell_type": "code",
   "execution_count": 7,
   "metadata": {
    "ExecuteTime": {
     "end_time": "2024-12-12T16:16:16.459545Z",
     "start_time": "2024-12-12T16:16:16.253143Z"
    }
   },
   "outputs": [],
   "source": [
    "clusters, sentences = perform_kmeans(file_path, num_clusters=4, language='german')"
   ]
  },
  {
   "cell_type": "code",
   "execution_count": 8,
   "metadata": {
    "ExecuteTime": {
     "end_time": "2024-12-12T16:16:16.783879Z",
     "start_time": "2024-12-12T16:16:16.588329Z"
    }
   },
   "outputs": [
    {
     "data": {
      "text/plain": "<Figure size 800x500 with 1 Axes>",
      "image/png": "[encoded data removed]"
     },
     "metadata": {},
     "output_type": "display_data"
    }
   ],
   "source": [
    "# Ergebnisse in ein DataFrame bringen\n",
    "data = pd.DataFrame({\n",
    "    'Sentence': sentences,\n",
    "    'Cluster': clusters\n",
    "})\n",
    "\n",
    "# Verteilung der Cluster\n",
    "cluster_counts = Counter(clusters)\n",
    "\n",
    "# Barplot für die Cluster-Verteilung\n",
    "plt.figure(figsize=(8, 5))\n",
    "plt.bar(cluster_counts.keys(), cluster_counts.values())\n",
    "plt.xlabel('Cluster')\n",
    "plt.ylabel('Number of Sentences')\n",
    "plt.title('Cluster Distribution')\n",
    "plt.xticks(range(len(cluster_counts)))\n",
    "plt.show()"
   ]
  },
  {
   "cell_type": "code",
   "execution_count": 9,
   "metadata": {
    "ExecuteTime": {
     "end_time": "2024-12-12T16:16:16.787855Z",
     "start_time": "2024-12-12T16:16:16.785500Z"
    }
   },
   "outputs": [
    {
     "name": "stdout",
     "output_type": "stream",
     "text": [
      "\n",
      "Cluster 0 (11 Einträge):\n",
      "- aufsetzen umgebung gemeinsames arbeiten\n",
      "- priorisierung einzelner aufgaben anforderungen entsprechend\n",
      "- aufgabenbeschreibung manchmal ganz hilfreich\n",
      "- aufgabenvorgaben wenig information\n",
      "- aufgabenverteilung\n",
      "- programmieren viele nerven gekostet öfters kleinere probleme gab leicht kommt\n",
      "- planung\n",
      "- regelmäßige update jira/repo schauen\n",
      "- pflegen jiras\n",
      "- zeitplanung/ zeitdruck\n",
      "- klare konkrete zielsetzung\n",
      "\n",
      "Cluster 1 (5 Einträge):\n",
      "- kommunikation untereinander neuesten stand\n",
      "- kommunikation lief schon besser vergangenen projekten verbesserungswürdig\n",
      "- kommunikation okay perfekt\n",
      "- kommunikation weniger gut gab missverständnisse mussten teilaufgaben neu begonnen\n",
      "- kommunikation aufgabe priorisiert\n",
      "\n",
      "Cluster 2 (1 Einträge):\n",
      "- vereinigung einzelsysteme erfordert mehr kommunikationsaufwand\n",
      "\n",
      "Cluster 3 (2 Einträge):\n",
      "- backlog unklar\n",
      "- befüllen backlog\n"
     ]
    }
   ],
   "source": [
    "# Darstellung der Sätze pro Cluster\n",
    "for cluster in sorted(cluster_counts.keys()):\n",
    "    print(f\"\\nCluster {cluster} ({cluster_counts[cluster]} Einträge):\")\n",
    "    cluster_sentences = data[data['Cluster'] == cluster]['Sentence']\n",
    "    for sentence in cluster_sentences:\n",
    "        print(f\"- {sentence}\")"
   ]
  }
 ],
 "metadata": {
  "kernelspec": {
   "display_name": "Python 3",
   "language": "python",
   "name": "python3"
  },
  "language_info": {
   "codemirror_mode": {
    "name": "ipython",
    "version": 3
   },
   "file_extension": ".py",
   "mimetype": "text/x-python",
   "name": "python",
   "nbconvert_exporter": "python",
   "pygments_lexer": "ipython3",
   "version": "3.9.6"
  }
 },
 "nbformat": 4,
 "nbformat_minor": 2
}
